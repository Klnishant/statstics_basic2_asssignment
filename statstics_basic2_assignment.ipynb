{
 "cells": [
  {
   "cell_type": "markdown",
   "id": "35752a3b-6ceb-4568-a6dd-ea5a014983f7",
   "metadata": {},
   "source": [
    "Q1. What are the three measures of central tendency?"
   ]
  },
  {
   "cell_type": "raw",
   "id": "a5f9ad40-1d2f-4724-a6b0-cb53d0fe0b1b",
   "metadata": {},
   "source": [
    "Ans--> The three measures of central tendency are:\n",
    "\n",
    "1.Mean: The mean is the arithmetic average of a set of numbers. It is calculated by adding up all the numbers in the set and dividing by the number of values in the set.\n",
    "\n",
    "2.Median: The median is the middle value in a set of numbers. To find the median, the values in the set are arranged in order and the middle value is identified. If there is an even number of values in the set, the median is the average of the two middle values.\n",
    "\n",
    "3.Mode: The mode is the value that occurs most frequently in a set of numbers. If there is no value that occurs more frequently than any other, the set is said to have no mode.\n",
    "\n",
    "Each measure of central tendency provides a different way of summarizing the typical value or center of a dataset. The choice of which measure to use depends on the type of data and the research question being investigated."
   ]
  },
  {
   "cell_type": "markdown",
   "id": "5bd43b52-9dbf-4df1-a108-34f9bf0d0acc",
   "metadata": {},
   "source": [
    "Q2. What is the difference between the mean, median, and mode? How are they used to measure the\n",
    "central tendency of a dataset?"
   ]
  },
  {
   "cell_type": "markdown",
   "id": "c38632fa-ae38-4f0d-88e4-651e5a1f25b0",
   "metadata": {},
   "source": [
    "Ans--> The mean, median, and mode are three measures of central tendency used to describe the typical value or center of a dataset.\n",
    "\n",
    "The mean is the arithmetic average of a set of numbers. It is calculated by adding up all the numbers in the set and dividing by the number of values in the set. The mean is influenced by extreme values or outliers in the dataset, which can pull the mean in one direction or another. The mean is commonly used when the data is normally distributed or symmetric.\n",
    "\n",
    "The median is the middle value in a set of numbers. To find the median, the values in the set are arranged in order, and the middle value is identified. If there is an even number of values in the set, the median is the average of the two middle values. The median is a robust measure of central tendency that is not influenced by outliers or extreme values. The median is commonly used when the data is skewed or contains outliers.\n",
    "\n",
    "The mode is the value that occurs most frequently in a set of numbers. If there is no value that occurs more frequently than any other, the set is said to have no mode. The mode is commonly used when the data has a clear peak or mode, such as in a bimodal or multimodal distribution.\n",
    "\n",
    "In summary, the mean, median, and mode are three measures of central tendency used to describe the typical value or center of a dataset. The choice of which measure to use depends on the type of data and the research question being investigated. The mean is commonly used when the data is normally distributed or symmetric, the median is commonly used when the data is skewed or contains outliers, and the mode is commonly used when the data has a clear peak or mode."
   ]
  },
  {
   "cell_type": "markdown",
   "id": "9f177fbc-277f-4c83-9429-b5903de28056",
   "metadata": {},
   "source": [
    "Q3. Measure the three measures of central tendency for the given height data:\n",
    "[178,177,176,177,178.2,178,175,179,180,175,178.9,176.2,177,172.5,178,176.5]"
   ]
  },
  {
   "cell_type": "code",
   "execution_count": 1,
   "id": "d57bc860-b894-4af0-a9f0-b9d544d9549a",
   "metadata": {},
   "outputs": [
    {
     "name": "stdout",
     "output_type": "stream",
     "text": [
      "Mean: 177.01875\n",
      "Median: 177.0\n",
      "Mode: 178\n"
     ]
    }
   ],
   "source": [
    "import statistics\n",
    "\n",
    "data = [178,177,176,177,178.2,178,175,179,180,175,178.9,176.2,177,172.5,178,176.5]\n",
    "\n",
    "# calculate the mean\n",
    "mean = statistics.mean(data)\n",
    "\n",
    "# calculate the median\n",
    "median = statistics.median(data)\n",
    "\n",
    "# calculate the mode\n",
    "try:\n",
    "    mode = statistics.mode(data)\n",
    "except statistics.StatisticsError:\n",
    "    mode = None\n",
    "\n",
    "print(\"Mean:\", mean)\n",
    "print(\"Median:\", median)\n",
    "print(\"Mode:\", mode)\n"
   ]
  },
  {
   "cell_type": "markdown",
   "id": "10233668-2ddc-48f7-9004-80055c33c762",
   "metadata": {},
   "source": [
    "Q4. Find the standard deviation for the given data:\n",
    "[178,177,176,177,178.2,178,175,179,180,175,178.9,176.2,177,172.5,178,176.5]"
   ]
  },
  {
   "cell_type": "code",
   "execution_count": 2,
   "id": "d5accc55-3f2b-4b51-998f-d14f370f6b79",
   "metadata": {},
   "outputs": [
    {
     "name": "stdout",
     "output_type": "stream",
     "text": [
      "Standard deviation: 1.8472389305844188\n"
     ]
    }
   ],
   "source": [
    "import statistics\n",
    "\n",
    "data = [178,177,176,177,178.2,178,175,179,180,175,178.9,176.2,177,172.5,178,176.5]\n",
    "\n",
    "# calculate the standard deviation\n",
    "stdev = statistics.stdev(data)\n",
    "\n",
    "print(\"Standard deviation:\", stdev)\n"
   ]
  },
  {
   "cell_type": "markdown",
   "id": "ac8175a0-4ca5-4b2b-bb25-2c54140a6f6b",
   "metadata": {},
   "source": [
    "Q5. How are measures of dispersion such as range, variance, and standard deviation used to describe\n",
    "the spread of a dataset? Provide an example."
   ]
  },
  {
   "cell_type": "markdown",
   "id": "6672622a-6f3e-475c-afae-4624e5e8928c",
   "metadata": {},
   "source": [
    "Ans--> Measures of dispersion such as range, variance, and standard deviation are used to describe how spread out the data in a dataset is. These measures provide information about how much the individual values in the dataset differ from the central tendency of the data.\n",
    "\n",
    "Range: The range is the difference between the largest and smallest values in a dataset. It provides a quick way to get an idea of how spread out the data is. However, it does not take into account the distribution of the data, and is sensitive to outliers. For example, consider the following dataset of exam scores: [70, 72, 75, 78, 80]. The range of this dataset is 10, as the largest value (80) minus the smallest value (70) is 10.\n",
    "\n",
    "Variance: The variance is a measure of how much the individual values in a dataset differ from the mean of the data. It is calculated by taking the sum of the squared differences between each value and the mean, and dividing by the number of values in the dataset. A larger variance indicates that the data is more spread out, while a smaller variance indicates that the data is more tightly clustered around the mean. For example, consider the following dataset of exam scores: [70, 72, 75, 78, 80]. The variance of this dataset is approximately 15.7.\n",
    "\n",
    "Standard deviation: The standard deviation is another measure of how much the individual values in a dataset differ from the mean of the data. It is the square root of the variance, and provides a more intuitive measure of the spread of the data, since it is in the same units as the original data. A larger standard deviation indicates that the data is more spread out, while a smaller standard deviation indicates that the data is more tightly clustered around the mean. For example, consider the following dataset of exam scores: [70, 72, 75, 78, 80]. The standard deviation of this dataset is approximately 3.97.\n",
    "\n",
    "In summary, measures of dispersion such as range, variance, and standard deviation provide information about the spread of the data in a dataset. They can help us to understand how much the individual values in the dataset differ from the central tendency of the data, and how tightly clustered or spread out the data is.\n"
   ]
  },
  {
   "cell_type": "markdown",
   "id": "5ae9e8ae-a483-43d7-84fe-320535e5f693",
   "metadata": {},
   "source": [
    "Q6. What is a Venn diagram?"
   ]
  },
  {
   "cell_type": "markdown",
   "id": "46a35c20-c2ec-4ff5-bbe6-6efe87a1c2e4",
   "metadata": {},
   "source": [
    "Ans--> A Venn diagram is a visual tool used to show the relationships between sets. It consists of one or more overlapping circles, each representing a set, with the area of overlap representing the elements that belong to both sets.\n",
    "\n",
    "Venn diagrams can be used to illustrate various types of relationships between sets, including union (elements that belong to either set or both sets), intersection (elements that belong to both sets), complement (elements that belong to one set but not the other), and subset (one set is entirely contained within the other).\n",
    "\n",
    "Venn diagrams are commonly used in mathematics, statistics, and logic, as well as in various fields of science and social science, to visually represent and analyze sets of data. They can help to clarify complex relationships between sets, and provide a useful tool for organizing and analyzing information."
   ]
  },
  {
   "cell_type": "markdown",
   "id": "6d3b6a66-6ca4-4ff1-91f9-7ed5a9768d76",
   "metadata": {},
   "source": [
    "Q7. For the two given sets A = (2,3,4,5,6,7) & B = (0,2,6,8,10). Find:\n",
    "(i) A intersection B\n",
    "(ii) A ⋃ B"
   ]
  },
  {
   "cell_type": "markdown",
   "id": "ee3d448d-68fd-4113-8920-20e25e608135",
   "metadata": {},
   "source": [
    "(i) A intersection B "
   ]
  },
  {
   "cell_type": "code",
   "execution_count": 1,
   "id": "41c47ac0-e15e-4e3a-920d-dd072843ccb8",
   "metadata": {},
   "outputs": [
    {
     "name": "stdout",
     "output_type": "stream",
     "text": [
      "{2, 6}\n"
     ]
    }
   ],
   "source": [
    "A = {2, 3, 4, 5, 6, 7}\n",
    "B = {0, 2, 6, 8, 10}\n",
    "\n",
    "A_intersection_B = A.intersection(B)\n",
    "print(A_intersection_B)\n"
   ]
  },
  {
   "cell_type": "markdown",
   "id": "eab45f2c-64b0-4e36-b832-c5fc0bef1352",
   "metadata": {},
   "source": [
    "(ii) A ⋃ B"
   ]
  },
  {
   "cell_type": "code",
   "execution_count": 2,
   "id": "0f669fdf-a766-450a-bfe3-190269c7e217",
   "metadata": {},
   "outputs": [
    {
     "name": "stdout",
     "output_type": "stream",
     "text": [
      "{0, 2, 3, 4, 5, 6, 7, 8, 10}\n"
     ]
    }
   ],
   "source": [
    "A = {2, 3, 4, 5, 6, 7}\n",
    "B = {0, 2, 6, 8, 10}\n",
    "\n",
    "A_union_B = A.union(B)\n",
    "print(A_union_B)\n"
   ]
  },
  {
   "cell_type": "markdown",
   "id": "42e58418-9184-4bbf-8c21-1b12cbdba863",
   "metadata": {},
   "source": [
    "Q8. What do you understand about skewness in data?"
   ]
  },
  {
   "cell_type": "markdown",
   "id": "9a02a8b9-adc9-4e9f-a521-362c34832c4a",
   "metadata": {},
   "source": [
    "Ans--> Skewness is a measure of the degree of asymmetry in a dataset. In other words, it measures the deviation of the distribution of the data from a symmetrical distribution. Skewness can be positive, negative or zero.\n",
    "\n",
    "A dataset with a positive skewness indicates that the tail of the distribution is longer on the right side than on the left side. This means that the majority of the values in the dataset are concentrated on the left side, with a few extreme values on the right side.\n",
    "A dataset with a negative skewness indicates that the tail of the distribution is longer on the left side than on the right side. This means that the majority of the values in the dataset are concentrated on the right side, with a few extreme values on the left side.\n",
    "A dataset with zero skewness indicates that the distribution is symmetrical, with equal concentration of values on both sides of the distribution.\n",
    "Understanding the skewness of a dataset is important because it can affect the choice of statistical methods used to analyze the data. For example, if the dataset is highly skewed, it may not be appropriate to use certain statistical tests that assume a symmetrical distribution of data. Skewness can also affect the interpretation of the central tendency of the data, as the mean and median can differ significantly in skewed distributions."
   ]
  },
  {
   "cell_type": "markdown",
   "id": "bebd9d90-1e85-4944-90de-6dcc3bdab7b6",
   "metadata": {},
   "source": [
    "Q9. If a data is right skewed then what will be the position of median with respect to mean?"
   ]
  },
  {
   "cell_type": "markdown",
   "id": "d61849f6-9e5d-4cf2-9a2e-6a377ade8c8f",
   "metadata": {},
   "source": [
    "Ans--> In a right-skewed dataset, the tail of the distribution is longer on the right side, and the majority of the values are concentrated on the left side. This means that the extreme values are pulling the mean towards the right side, making it greater than the median. Therefore, in a right-skewed dataset, the median will be smaller than the mean."
   ]
  },
  {
   "cell_type": "markdown",
   "id": "65c4cf7b-9bf5-4c9a-bfc3-8d1d816e5ad5",
   "metadata": {},
   "source": [
    "Q10. Explain the difference between covariance and correlation. How are these measures used in\n",
    "statistical analysis?"
   ]
  },
  {
   "cell_type": "markdown",
   "id": "c37a5248-56c9-4982-b1d2-e5add93fd9cd",
   "metadata": {},
   "source": [
    "Ans--> Covariance and correlation are both measures of the relationship between two variables.\n",
    "\n",
    "Covariance is a measure of how two variables change together. It measures how much two variables deviate from their expected values in the same way. A positive covariance indicates that the variables tend to move in the same direction, while a negative covariance indicates that they tend to move in opposite directions. However, the magnitude of covariance depends on the scale of the variables and is difficult to interpret in absolute terms.\n",
    "\n",
    "Correlation is a standardized measure of the relationship between two variables. It is a more interpretable measure of association than covariance, as it does not depend on the scale of the variables. Correlation coefficient takes values between -1 to 1. A value of +1 indicates a perfect positive correlation (when one variable increases, the other increases as well), a value of -1 indicates a perfect negative correlation (when one variable increases, the other decreases), and a value of 0 indicates no correlation.\n",
    "\n",
    "Both covariance and correlation are used in statistical analysis to determine the strength and direction of the relationship between two variables. They are commonly used in regression analysis, where one variable (the dependent variable) is predicted from another variable (the independent variable). Correlation is also used to identify patterns in large datasets, such as in exploratory data analysis."
   ]
  },
  {
   "cell_type": "markdown",
   "id": "1d20efcc-ec08-4ad1-8ae4-acc4a4679beb",
   "metadata": {},
   "source": [
    "Q11. What is the formula for calculating the sample mean? Provide an example calculation for a\n",
    "dataset."
   ]
  },
  {
   "cell_type": "markdown",
   "id": "581fa9a2-8df2-4cdb-b2f0-094e83dafa1f",
   "metadata": {},
   "source": [
    "Ans--> the formula for calculating the sample mean is:\n",
    "\n",
    "mean = (sum of all observations) / (number of observations)\n",
    "\n",
    "For example, consider the following dataset:\n",
    "\n",
    "[12, 15, 17, 20, 22]\n",
    "\n",
    "To calculate the sample mean of this dataset, we can use the formula:\n",
    "\n",
    "mean = (12 + 15 + 17 + 20 + 22) / 5\n",
    "\n",
    "mean = 86 / 5\n",
    "\n",
    "mean = 17.2\n",
    "\n",
    "Therefore, the sample mean of this dataset is 17.2."
   ]
  },
  {
   "cell_type": "markdown",
   "id": "ca3e9139-10a2-4356-a8fa-807b7f28614e",
   "metadata": {},
   "source": [
    "Q12. For a normal distribution data what is the relationship between its measure of central tendency?"
   ]
  },
  {
   "cell_type": "markdown",
   "id": "43eaf674-2de6-4aa5-a9a4-e69ee63be071",
   "metadata": {},
   "source": [
    "Ans--> For a normal distribution data, the mean, median, and mode are all equal to each other. This means that they have the same value and are located at the center of the distribution. This is because in a normal distribution, the data is symmetric around the mean. As a result, the mean, median, and mode will be the same and will provide a good estimate of the central tendency of the data."
   ]
  },
  {
   "cell_type": "markdown",
   "id": "8c6922aa-2ba1-4682-b99a-52d357ec4119",
   "metadata": {},
   "source": [
    "Q13. How is covariance different from correlation?"
   ]
  },
  {
   "cell_type": "markdown",
   "id": "4f79c835-f9ed-4dab-b69e-8a3bdb243bf9",
   "metadata": {},
   "source": [
    "Ans--> Covariance and correlation are both measures of the relationship between two variables, but they differ in a few important ways:\n",
    "\n",
    "1.Definition: Covariance measures how two variables change together, while correlation measures the strength and direction of the linear relationship between two variables.\n",
    "\n",
    "2.Scale: Covariance is not standardized, meaning its value can range from negative infinity to positive infinity. On the other hand, correlation is standardized, and its value always ranges between -1 and 1.\n",
    "\n",
    "3.Interpretation: Because covariance is not standardized, it is difficult to interpret its magnitude. On the other hand, correlation can be easily interpreted because its value always ranges between -1 and 1. A correlation value close to -1 indicates a strong negative linear relationship, a value close to 1 indicates a strong positive linear relationship, and a value close to 0 indicates a weak or no linear relationship.\n",
    "\n",
    "In summary, covariance measures the strength and direction of the relationship between two variables, while correlation measures the strength and direction of the linear relationship between two variables and is more easily interpretable due to its standardized scale."
   ]
  },
  {
   "cell_type": "markdown",
   "id": "3a0805ba-087f-4d45-9e95-21832375c879",
   "metadata": {},
   "source": [
    "Q14. How do outliers affect measures of central tendency and dispersion? Provide an example."
   ]
  },
  {
   "cell_type": "markdown",
   "id": "3f0f61fc-9a3b-44b7-871c-6cbe9f3fbf42",
   "metadata": {},
   "source": [
    "Ans--> Outliers are data points that are significantly different from the other observations in a dataset. Outliers can have a significant impact on measures of central tendency and dispersion.\n",
    "\n",
    "If a dataset contains outliers, the mean may not be a good measure of central tendency because it is sensitive to extreme values. The mean can be skewed towards the direction of the outliers. On the other hand, the median is a more robust measure of central tendency that is less affected by outliers.\n",
    "\n",
    "Similarly, outliers can have a significant impact on measures of dispersion such as the range, variance, and standard deviation. Outliers can cause these measures to become larger than they would be if the outliers were not present.\n",
    "\n",
    "For example, let's consider a dataset of the following ages of a group of people: 25, 30, 31, 33, 35, 40, 41, 42, 45, 50, 75. The outlier in this dataset is the age of 75, which is significantly higher than the other ages. The mean age is calculated by summing all the ages and dividing by the number of ages:\n",
    "\n",
    "Mean age = (25 + 30 + 31 + 33 + 35 + 40 + 41 + 42 + 45 + 50 + 75) / 11 = 40.91\n",
    "\n",
    "The median age is the middle value when the ages are arranged in order:\n",
    "\n",
    "Median age = 40\n",
    "\n",
    "The range of the dataset is the difference between the maximum age and the minimum age:\n",
    "\n",
    "Range = 75 - 25 = 50\n",
    "\n",
    "The standard deviation of the dataset is:\n",
    "\n",
    "Standard deviation = 12.69\n",
    "\n",
    "In this example, the outlier age of 75 has significantly increased the mean age compared to the median age, and has also resulted in a larger range and standard deviation."
   ]
  },
  {
   "cell_type": "code",
   "execution_count": null,
   "id": "917a7603-8845-41b5-b2a2-1c7e8affe086",
   "metadata": {},
   "outputs": [],
   "source": []
  }
 ],
 "metadata": {
  "kernelspec": {
   "display_name": "Python 3 (ipykernel)",
   "language": "python",
   "name": "python3"
  },
  "language_info": {
   "codemirror_mode": {
    "name": "ipython",
    "version": 3
   },
   "file_extension": ".py",
   "mimetype": "text/x-python",
   "name": "python",
   "nbconvert_exporter": "python",
   "pygments_lexer": "ipython3",
   "version": "3.10.8"
  }
 },
 "nbformat": 4,
 "nbformat_minor": 5
}
